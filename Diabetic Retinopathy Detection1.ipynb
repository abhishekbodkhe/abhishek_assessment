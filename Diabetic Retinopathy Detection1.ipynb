{
 "cells": [
  {
   "cell_type": "code",
   "execution_count": null,
   "id": "611359d4",
   "metadata": {
    "papermill": {
     "duration": 0.015887,
     "end_time": "2022-08-07T16:38:29.242095",
     "exception": false,
     "start_time": "2022-08-07T16:38:29.226208",
     "status": "completed"
    },
    "tags": []
   },
   "outputs": [],
   "source": []
  },
  {
   "cell_type": "markdown",
   "id": "b68b8b12",
   "metadata": {
    "papermill": {
     "duration": 0.016712,
     "end_time": "2022-08-07T16:38:29.274972",
     "exception": false,
     "start_time": "2022-08-07T16:38:29.258260",
     "status": "completed"
    },
    "tags": []
   },
   "source": [
    "\n",
    "\n"
   ]
  },
  {
   "cell_type": "code",
   "execution_count": null,
   "id": "944dbd38",
   "metadata": {
    "papermill": {
     "duration": 0.015995,
     "end_time": "2022-08-07T16:38:29.307103",
     "exception": false,
     "start_time": "2022-08-07T16:38:29.291108",
     "status": "completed"
    },
    "tags": []
   },
   "outputs": [],
   "source": []
  },
  {
   "cell_type": "code",
   "execution_count": 3,
   "id": "807325af",
   "metadata": {
    "_cell_guid": "79c7e3d0-c299-4dcb-8224-4455121ee9b0",
    "_uuid": "d629ff2d2480ee46fbb7e2d37f6b5fab8052498a",
    "execution": {
     "iopub.execute_input": "2022-08-07T16:38:29.407554Z",
     "iopub.status.busy": "2022-08-07T16:38:29.406484Z",
     "iopub.status.idle": "2022-08-07T16:38:35.491810Z",
     "shell.execute_reply": "2022-08-07T16:38:35.490793Z"
    },
    "id": "nFAm6AkR5dem",
    "papermill": {
     "duration": 6.105731,
     "end_time": "2022-08-07T16:38:35.494278",
     "exception": false,
     "start_time": "2022-08-07T16:38:29.388547",
     "status": "completed"
    },
    "tags": []
   },
   "outputs": [],
   "source": [
    "from tensorflow import lite\n",
    "import tensorflow as tf\n",
    "from tensorflow import keras\n",
    "from tensorflow.keras import layers\n",
    "import numpy as np\n",
    "import pandas as pd\n",
    "import random, os\n",
    "import shutil\n",
    "import matplotlib.pyplot as plt\n",
    "from matplotlib.image import imread\n",
    "from keras.preprocessing.image import ImageDataGenerator\n",
    "from tensorflow.keras.metrics import categorical_accuracy\n",
    "from sklearn.model_selection import train_test_split"
   ]
  },
  {
   "cell_type": "code",
   "execution_count": 4,
   "id": "d36144e9",
   "metadata": {
    "execution": {
     "iopub.execute_input": "2022-08-07T16:38:35.530723Z",
     "iopub.status.busy": "2022-08-07T16:38:35.528769Z",
     "iopub.status.idle": "2022-08-07T16:38:35.566462Z",
     "shell.execute_reply": "2022-08-07T16:38:35.565267Z"
    },
    "id": "02HUx5fs5dew",
    "outputId": "feb7cede-7dac-4619-9267-9bc4fda77e1f",
    "papermill": {
     "duration": 0.057478,
     "end_time": "2022-08-07T16:38:35.568434",
     "exception": false,
     "start_time": "2022-08-07T16:38:35.510956",
     "status": "completed"
    },
    "tags": []
   },
   "outputs": [
    {
     "data": {
      "text/html": [
       "<div>\n",
       "<style scoped>\n",
       "    .dataframe tbody tr th:only-of-type {\n",
       "        vertical-align: middle;\n",
       "    }\n",
       "\n",
       "    .dataframe tbody tr th {\n",
       "        vertical-align: top;\n",
       "    }\n",
       "\n",
       "    .dataframe thead th {\n",
       "        text-align: right;\n",
       "    }\n",
       "</style>\n",
       "<table border=\"1\" class=\"dataframe\">\n",
       "  <thead>\n",
       "    <tr style=\"text-align: right;\">\n",
       "      <th></th>\n",
       "      <th>id_code</th>\n",
       "      <th>diagnosis</th>\n",
       "      <th>binary_type</th>\n",
       "      <th>type</th>\n",
       "    </tr>\n",
       "  </thead>\n",
       "  <tbody>\n",
       "    <tr>\n",
       "      <th>0</th>\n",
       "      <td>000c1434d8d7</td>\n",
       "      <td>2</td>\n",
       "      <td>DR</td>\n",
       "      <td>Moderate</td>\n",
       "    </tr>\n",
       "    <tr>\n",
       "      <th>1</th>\n",
       "      <td>001639a390f0</td>\n",
       "      <td>4</td>\n",
       "      <td>DR</td>\n",
       "      <td>Proliferate_DR</td>\n",
       "    </tr>\n",
       "    <tr>\n",
       "      <th>2</th>\n",
       "      <td>0024cdab0c1e</td>\n",
       "      <td>1</td>\n",
       "      <td>DR</td>\n",
       "      <td>Mild</td>\n",
       "    </tr>\n",
       "    <tr>\n",
       "      <th>3</th>\n",
       "      <td>002c21358ce6</td>\n",
       "      <td>0</td>\n",
       "      <td>No_DR</td>\n",
       "      <td>No_DR</td>\n",
       "    </tr>\n",
       "    <tr>\n",
       "      <th>4</th>\n",
       "      <td>005b95c28852</td>\n",
       "      <td>0</td>\n",
       "      <td>No_DR</td>\n",
       "      <td>No_DR</td>\n",
       "    </tr>\n",
       "  </tbody>\n",
       "</table>\n",
       "</div>"
      ],
      "text/plain": [
       "        id_code  diagnosis binary_type            type\n",
       "0  000c1434d8d7          2          DR        Moderate\n",
       "1  001639a390f0          4          DR  Proliferate_DR\n",
       "2  0024cdab0c1e          1          DR            Mild\n",
       "3  002c21358ce6          0       No_DR           No_DR\n",
       "4  005b95c28852          0       No_DR           No_DR"
      ]
     },
     "execution_count": 4,
     "metadata": {},
     "output_type": "execute_result"
    }
   ],
   "source": [
    "# Add an additional column, mapping to the type\n",
    "df = pd.read_csv(r'C:/dr_final/train.csv')\n",
    "\n",
    "\n",
    "diagnosis_dict_binary = {\n",
    "    0: 'No_DR',\n",
    "    1: 'DR',\n",
    "    2: 'DR',\n",
    "    3: 'DR',\n",
    "    4: 'DR'\n",
    "}\n",
    "\n",
    "diagnosis_dict = {\n",
    "    0: 'No_DR',\n",
    "    1: 'Mild',\n",
    "    2: 'Moderate',\n",
    "    3: 'Severe',\n",
    "    4: 'Proliferate_DR',\n",
    "}\n",
    "\n",
    "\n",
    "df['binary_type'] =  df['diagnosis'].map(diagnosis_dict_binary.get)\n",
    "df['type'] = df['diagnosis'].map(diagnosis_dict.get)\n",
    "df.head()"
   ]
  },
  {
   "cell_type": "code",
   "execution_count": 5,
   "id": "959c572f",
   "metadata": {
    "execution": {
     "iopub.execute_input": "2022-08-07T16:38:35.601828Z",
     "iopub.status.busy": "2022-08-07T16:38:35.601553Z",
     "iopub.status.idle": "2022-08-07T16:38:35.816272Z",
     "shell.execute_reply": "2022-08-07T16:38:35.815422Z"
    },
    "id": "hariTLPu5de2",
    "outputId": "e823b0da-b643-4d00-8a5f-9d5c2b6fcc2a",
    "papermill": {
     "duration": 0.233994,
     "end_time": "2022-08-07T16:38:35.818442",
     "exception": false,
     "start_time": "2022-08-07T16:38:35.584448",
     "status": "completed"
    },
    "scrolled": true,
    "tags": []
   },
   "outputs": [
    {
     "data": {
      "text/plain": [
       "<AxesSubplot:>"
      ]
     },
     "execution_count": 5,
     "metadata": {},
     "output_type": "execute_result"
    },
    {
     "data": {
      "image/png": "[encoded data removed]",
      "text/plain": [
       "<Figure size 432x288 with 1 Axes>"
      ]
     },
     "metadata": {
      "needs_background": "light"
     },
     "output_type": "display_data"
    }
   ],
   "source": [
    "df['type'].value_counts().plot(kind='barh')"
   ]
  },
  {
   "cell_type": "code",
   "execution_count": 6,
   "id": "018ff67b",
   "metadata": {
    "execution": {
     "iopub.execute_input": "2022-08-07T16:38:35.853313Z",
     "iopub.status.busy": "2022-08-07T16:38:35.852491Z",
     "iopub.status.idle": "2022-08-07T16:38:36.017521Z",
     "shell.execute_reply": "2022-08-07T16:38:36.016664Z"
    },
    "id": "mNpDtYla5de4",
    "outputId": "c7c99fb8-d41a-47e9-dab0-416cea5033ca",
    "papermill": {
     "duration": 0.184793,
     "end_time": "2022-08-07T16:38:36.019495",
     "exception": false,
     "start_time": "2022-08-07T16:38:35.834702",
     "status": "completed"
    },
    "tags": []
   },
   "outputs": [
    {
     "data": {
      "text/plain": [
       "<AxesSubplot:>"
      ]
     },
     "execution_count": 6,
     "metadata": {},
     "output_type": "execute_result"
    },
    {
     "data": {
      "image/png": "[encoded data removed]",
      "text/plain": [
       "<Figure size 432x288 with 1 Axes>"
      ]
     },
     "metadata": {
      "needs_background": "light"
     },
     "output_type": "display_data"
    }
   ],
   "source": [
    "df['binary_type'].value_counts().plot(kind='barh')"
   ]
  },
  {
   "cell_type": "code",
   "execution_count": 7,
   "id": "6275efe1",
   "metadata": {
    "execution": {
     "iopub.execute_input": "2022-08-07T16:38:36.054233Z",
     "iopub.status.busy": "2022-08-07T16:38:36.053964Z",
     "iopub.status.idle": "2022-08-07T16:38:36.073190Z",
     "shell.execute_reply": "2022-08-07T16:38:36.072169Z"
    },
    "id": "4NoJW5jl5de4",
    "outputId": "262e22c1-89c5-4a37-8cc3-396a31e270d0",
    "papermill": {
     "duration": 0.040617,
     "end_time": "2022-08-07T16:38:36.076753",
     "exception": false,
     "start_time": "2022-08-07T16:38:36.036136",
     "status": "completed"
    },
    "tags": []
   },
   "outputs": [
    {
     "name": "stdout",
     "output_type": "stream",
     "text": [
      "No_DR             1263\n",
      "Moderate           699\n",
      "Mild               258\n",
      "Proliferate_DR     207\n",
      "Severe             135\n",
      "Name: type, dtype: int64 \n",
      "\n",
      "No_DR             271\n",
      "Moderate          150\n",
      "Mild               56\n",
      "Proliferate_DR     44\n",
      "Severe             29\n",
      "Name: type, dtype: int64 \n",
      "\n",
      "No_DR             271\n",
      "Moderate          150\n",
      "Mild               56\n",
      "Proliferate_DR     44\n",
      "Severe             29\n",
      "Name: type, dtype: int64 \n",
      "\n"
     ]
    }
   ],
   "source": [
    "# Split into stratified train, val, and test sets\n",
    "train_intermediate, val = train_test_split(df, test_size = 0.15, stratify = df['type'])\n",
    "train, test = train_test_split(train_intermediate, test_size = 0.15 / (1 - 0.15), stratify = train_intermediate['type'])\n",
    "\n",
    "print(train['type'].value_counts(), '\\n')\n",
    "print(test['type'].value_counts(), '\\n')\n",
    "print(val['type'].value_counts(), '\\n')\n"
   ]
  },
  {
   "cell_type": "code",
   "execution_count": 8,
   "id": "e080bfc3",
   "metadata": {
    "execution": {
     "iopub.execute_input": "2022-08-07T16:38:36.112438Z",
     "iopub.status.busy": "2022-08-07T16:38:36.112151Z",
     "iopub.status.idle": "2022-08-07T16:38:36.119836Z",
     "shell.execute_reply": "2022-08-07T16:38:36.118989Z"
    },
    "id": "2UEAgD0W5de6",
    "papermill": {
     "duration": 0.027944,
     "end_time": "2022-08-07T16:38:36.121914",
     "exception": false,
     "start_time": "2022-08-07T16:38:36.093970",
     "status": "completed"
    },
    "tags": []
   },
   "outputs": [],
   "source": [
    "# Create working directories for train/val/test\n",
    "base_dir = ''\n",
    "\n",
    "train_dir = os.path.join(base_dir, 'train')\n",
    "val_dir = os.path.join(base_dir, 'val')\n",
    "test_dir = os.path.join(base_dir, 'test')\n",
    "\n",
    "if os.path.exists(base_dir):\n",
    "    shutil.rmtree(base_dir)\n",
    "\n",
    "if os.path.exists(train_dir):\n",
    "    shutil.rmtree(train_dir)\n",
    "os.makedirs(train_dir)\n",
    "\n",
    "if os.path.exists(val_dir):\n",
    "    shutil.rmtree(val_dir)\n",
    "os.makedirs(val_dir)\n",
    "\n",
    "if os.path.exists(test_dir):\n",
    "    shutil.rmtree(test_dir)\n",
    "os.makedirs(test_dir)\n"
   ]
  },
  {
   "cell_type": "code",
   "execution_count": 10,
   "id": "9943d140",
   "metadata": {
    "execution": {
     "iopub.execute_input": "2022-08-07T16:38:36.156105Z",
     "iopub.status.busy": "2022-08-07T16:38:36.155852Z",
     "iopub.status.idle": "2022-08-07T16:38:54.471729Z",
     "shell.execute_reply": "2022-08-07T16:38:54.470764Z"
    },
    "id": "sweLv9175de9",
    "papermill": {
     "duration": 18.336013,
     "end_time": "2022-08-07T16:38:54.474129",
     "exception": false,
     "start_time": "2022-08-07T16:38:36.138116",
     "status": "completed"
    },
    "tags": []
   },
   "outputs": [],
   "source": [
    "# Copy images to respective working directory\n",
    "src_dir = r'C:/dr_final/gaussian_filtered_images/gaussian_filtered_images'\n",
    "for index, row in train.iterrows():\n",
    "    diagnosis = row['type']\n",
    "    binary_diagnosis = row['binary_type']\n",
    "    id_code = row['id_code'] + \".png\"\n",
    "    srcfile = os.path.join(src_dir, diagnosis, id_code)\n",
    "    dstfile = os.path.join(train_dir, binary_diagnosis)\n",
    "    os.makedirs(dstfile, exist_ok = True)\n",
    "    shutil.copy(srcfile, dstfile)\n",
    "\n",
    "for index, row in val.iterrows():\n",
    "    diagnosis = row['type']\n",
    "    binary_diagnosis = row['binary_type']\n",
    "    id_code = row['id_code'] + \".png\"\n",
    "    srcfile = os.path.join(src_dir, diagnosis, id_code)\n",
    "    dstfile = os.path.join(val_dir, binary_diagnosis)\n",
    "    os.makedirs(dstfile, exist_ok = True)\n",
    "    shutil.copy(srcfile, dstfile)\n",
    " \n",
    "for index, row in test.iterrows():\n",
    "    diagnosis = row['type']\n",
    "    binary_diagnosis = row['binary_type']\n",
    "    id_code = row['id_code'] + \".png\"\n",
    "    srcfile = os.path.join(src_dir, diagnosis, id_code)\n",
    "    dstfile = os.path.join(test_dir, binary_diagnosis)\n",
    "    os.makedirs(dstfile, exist_ok = True)\n",
    "    shutil.copy(srcfile, dstfile)\n"
   ]
  },
  {
   "cell_type": "code",
   "execution_count": 11,
   "id": "b3a949ae",
   "metadata": {
    "execution": {
     "iopub.execute_input": "2022-08-07T16:38:54.609643Z",
     "iopub.status.busy": "2022-08-07T16:38:54.609081Z",
     "iopub.status.idle": "2022-08-07T16:38:55.039994Z",
     "shell.execute_reply": "2022-08-07T16:38:55.039071Z"
    },
    "id": "kcYe-AOO5dfA",
    "outputId": "c816c2a6-1d4b-4488-a5a6-4800819b96d7",
    "papermill": {
     "duration": 0.4838,
     "end_time": "2022-08-07T16:38:55.042285",
     "exception": false,
     "start_time": "2022-08-07T16:38:54.558485",
     "status": "completed"
    },
    "tags": []
   },
   "outputs": [
    {
     "name": "stdout",
     "output_type": "stream",
     "text": [
      "Found 2562 images belonging to 2 classes.\n",
      "Found 550 images belonging to 2 classes.\n",
      "Found 550 images belonging to 2 classes.\n"
     ]
    }
   ],
   "source": [
    "# Setting up ImageDataGenerator for train/val/test \n",
    "\n",
    "train_path = 'train'\n",
    "val_path = 'val'\n",
    "test_path = 'test'\n",
    "\n",
    "train_batches = ImageDataGenerator(rescale = 1./255).flow_from_directory(train_path, target_size=(224,224), shuffle = True)\n",
    "val_batches = ImageDataGenerator(rescale = 1./255).flow_from_directory(val_path, target_size=(224,224), shuffle = True)\n",
    "test_batches = ImageDataGenerator(rescale = 1./255).flow_from_directory(test_path, target_size=(224,224), shuffle = False)\n"
   ]
  },
  {
   "cell_type": "code",
   "execution_count": 14,
   "id": "7d04a49b",
   "metadata": {
    "execution": {
     "iopub.execute_input": "2022-08-07T16:38:55.078073Z",
     "iopub.status.busy": "2022-08-07T16:38:55.077783Z",
     "iopub.status.idle": "2022-08-07T16:43:21.214139Z",
     "shell.execute_reply": "2022-08-07T16:43:21.213180Z"
    },
    "id": "NHgHS22d5dfE",
    "outputId": "6ae2499c-e780-47d0-9165-89c3868c2822",
    "papermill": {
     "duration": 266.156666,
     "end_time": "2022-08-07T16:43:21.216493",
     "exception": false,
     "start_time": "2022-08-07T16:38:55.059827",
     "status": "completed"
    },
    "tags": []
   },
   "outputs": [
    {
     "name": "stdout",
     "output_type": "stream",
     "text": [
      "Epoch 1/30\n",
      "81/81 [==============================] - 45s 544ms/step - loss: 0.3909 - acc: 0.8833 - val_loss: 0.9282 - val_acc: 0.5073\n",
      "Epoch 2/30\n",
      "81/81 [==============================] - 48s 591ms/step - loss: 0.2413 - acc: 0.9254 - val_loss: 0.6639 - val_acc: 0.7073\n",
      "Epoch 3/30\n",
      "81/81 [==============================] - 53s 650ms/step - loss: 0.1560 - acc: 0.9450 - val_loss: 0.5974 - val_acc: 0.6309\n",
      "Epoch 4/30\n",
      "81/81 [==============================] - 41s 505ms/step - loss: 0.1020 - acc: 0.9563 - val_loss: 0.2723 - val_acc: 0.8782\n",
      "Epoch 5/30\n",
      "81/81 [==============================] - 41s 504ms/step - loss: 0.0635 - acc: 0.9766 - val_loss: 1.7575 - val_acc: 0.9036\n",
      "Epoch 6/30\n",
      "81/81 [==============================] - 42s 514ms/step - loss: 0.0604 - acc: 0.9801 - val_loss: 1.5028 - val_acc: 0.8345\n",
      "Epoch 7/30\n",
      "81/81 [==============================] - 40s 499ms/step - loss: 0.0334 - acc: 0.9883 - val_loss: 4.1998 - val_acc: 0.6400\n",
      "Epoch 8/30\n",
      "81/81 [==============================] - 46s 563ms/step - loss: 0.0304 - acc: 0.9895 - val_loss: 1.1030 - val_acc: 0.8400\n",
      "Epoch 9/30\n",
      "81/81 [==============================] - 47s 578ms/step - loss: 0.0278 - acc: 0.9934 - val_loss: 0.7430 - val_acc: 0.9273\n",
      "Epoch 10/30\n",
      "81/81 [==============================] - 45s 550ms/step - loss: 0.0262 - acc: 0.9938 - val_loss: 0.3583 - val_acc: 0.9291\n",
      "Epoch 11/30\n",
      "81/81 [==============================] - 41s 506ms/step - loss: 0.0110 - acc: 0.9965 - val_loss: 0.2550 - val_acc: 0.9455\n",
      "Epoch 12/30\n",
      "81/81 [==============================] - 47s 578ms/step - loss: 0.0171 - acc: 0.9961 - val_loss: 0.6403 - val_acc: 0.8855\n",
      "Epoch 13/30\n",
      "81/81 [==============================] - 47s 577ms/step - loss: 0.0204 - acc: 0.9941 - val_loss: 0.5311 - val_acc: 0.9327\n",
      "Epoch 14/30\n",
      "81/81 [==============================] - 48s 598ms/step - loss: 0.0116 - acc: 0.9980 - val_loss: 0.8718 - val_acc: 0.8964\n",
      "Epoch 15/30\n",
      "81/81 [==============================] - 43s 528ms/step - loss: 0.0118 - acc: 0.9965 - val_loss: 0.2776 - val_acc: 0.9327\n",
      "Epoch 16/30\n",
      "81/81 [==============================] - 50s 615ms/step - loss: 0.0122 - acc: 0.9969 - val_loss: 1.6793 - val_acc: 0.8345\n",
      "Epoch 17/30\n",
      "81/81 [==============================] - 47s 580ms/step - loss: 0.0088 - acc: 0.9965 - val_loss: 1.0977 - val_acc: 0.9218\n",
      "Epoch 18/30\n",
      "81/81 [==============================] - 42s 518ms/step - loss: 0.0159 - acc: 0.9957 - val_loss: 0.7015 - val_acc: 0.9291\n",
      "Epoch 19/30\n",
      "81/81 [==============================] - 45s 553ms/step - loss: 0.0156 - acc: 0.9980 - val_loss: 0.6143 - val_acc: 0.9382\n",
      "Epoch 20/30\n",
      "81/81 [==============================] - 44s 540ms/step - loss: 0.0211 - acc: 0.9957 - val_loss: 0.6131 - val_acc: 0.9345\n",
      "Epoch 21/30\n",
      "81/81 [==============================] - 50s 617ms/step - loss: 0.0031 - acc: 0.9984 - val_loss: 1.1970 - val_acc: 0.8818\n",
      "Epoch 22/30\n",
      "81/81 [==============================] - 46s 564ms/step - loss: 0.0139 - acc: 0.9969 - val_loss: 0.7816 - val_acc: 0.9055\n",
      "Epoch 23/30\n",
      "81/81 [==============================] - 49s 608ms/step - loss: 0.0052 - acc: 0.9984 - val_loss: 6.3846 - val_acc: 0.8982\n",
      "Epoch 24/30\n",
      "81/81 [==============================] - 48s 586ms/step - loss: 0.0194 - acc: 0.9965 - val_loss: 0.6377 - val_acc: 0.9364\n",
      "Epoch 25/30\n",
      "81/81 [==============================] - 49s 599ms/step - loss: 0.0068 - acc: 0.9973 - val_loss: 0.6776 - val_acc: 0.9509\n",
      "Epoch 26/30\n",
      "81/81 [==============================] - 45s 551ms/step - loss: 0.0063 - acc: 0.9977 - val_loss: 0.7565 - val_acc: 0.9382\n",
      "Epoch 27/30\n",
      "81/81 [==============================] - 45s 552ms/step - loss: 0.0036 - acc: 0.9977 - val_loss: 0.5937 - val_acc: 0.9182\n",
      "Epoch 28/30\n",
      "81/81 [==============================] - 43s 529ms/step - loss: 0.0052 - acc: 0.9977 - val_loss: 0.7670 - val_acc: 0.9327\n",
      "Epoch 29/30\n",
      "81/81 [==============================] - 47s 585ms/step - loss: 0.0078 - acc: 0.9977 - val_loss: 1.4106 - val_acc: 0.9364\n",
      "Epoch 30/30\n",
      "81/81 [==============================] - 48s 598ms/step - loss: 0.0075 - acc: 0.9965 - val_loss: 1.3037 - val_acc: 0.9127\n"
     ]
    }
   ],
   "source": [
    "# Building the model\n",
    "\n",
    "model = tf.keras.Sequential([\n",
    "    layers.Conv2D(8, (3,3), padding=\"valid\", input_shape=(224,224,3), activation = 'relu'),\n",
    "    layers.MaxPooling2D(pool_size=(2,2)),\n",
    "    layers.BatchNormalization(),\n",
    "    \n",
    "    layers.Conv2D(16, (3,3), padding=\"valid\", activation = 'relu'),\n",
    "    layers.MaxPooling2D(pool_size=(2,2)),\n",
    "    layers.BatchNormalization(),\n",
    "    \n",
    "    layers.Conv2D(32, (4,4), padding=\"valid\", activation = 'relu'),\n",
    "    layers.MaxPooling2D(pool_size=(2,2)),\n",
    "    layers.BatchNormalization(),\n",
    " \n",
    "    layers.Flatten(),\n",
    "    layers.Dense(32, activation = 'relu'),\n",
    "    layers.Dropout(0.15),\n",
    "    layers.Dense(2, activation = 'softmax')\n",
    "])\n",
    "\n",
    "model.compile(loss=tf.keras.losses.BinaryCrossentropy(),\n",
    "              metrics=['acc'])\n",
    "# model.compile(optimizer=tf.keras.optimizers.Adam(lr = 1e-5),\n",
    "#               loss=tf.keras.losses.BinaryCrossentropy(),\n",
    "#               metrics=['acc'])\n",
    "\n",
    "history = model.fit(train_batches,\n",
    "                    epochs=30,\n",
    "                    validation_data=val_batches)"
   ]
  },
  {
   "cell_type": "code",
   "execution_count": 15,
   "id": "e2efc560",
   "metadata": {
    "execution": {
     "iopub.execute_input": "2022-08-07T16:43:21.497974Z",
     "iopub.status.busy": "2022-08-07T16:43:21.497096Z",
     "iopub.status.idle": "2022-08-07T16:43:23.621211Z",
     "shell.execute_reply": "2022-08-07T16:43:23.620283Z"
    },
    "id": "IBOVVVRc5dfu",
    "outputId": "625ca660-456b-4517-f62d-135583381a45",
    "papermill": {
     "duration": 2.270333,
     "end_time": "2022-08-07T16:43:23.626689",
     "exception": false,
     "start_time": "2022-08-07T16:43:21.356356",
     "status": "completed"
    },
    "tags": []
   },
   "outputs": [
    {
     "name": "stderr",
     "output_type": "stream",
     "text": [
      "WARNING:absl:Found untraced functions such as _jit_compiled_convolution_op, _jit_compiled_convolution_op, _jit_compiled_convolution_op while saving (showing 3 of 3). These functions will not be directly callable after loading.\n"
     ]
    },
    {
     "name": "stdout",
     "output_type": "stream",
     "text": [
      "INFO:tensorflow:Assets written to: 64x3-CNN.model\\assets\n"
     ]
    },
    {
     "name": "stderr",
     "output_type": "stream",
     "text": [
      "INFO:tensorflow:Assets written to: 64x3-CNN.model\\assets\n"
     ]
    }
   ],
   "source": [
    "model.save('64x3-CNN.model')"
   ]
  },
  {
   "cell_type": "code",
   "execution_count": 16,
   "id": "755164b7",
   "metadata": {
    "execution": {
     "iopub.execute_input": "2022-08-07T16:43:23.905781Z",
     "iopub.status.busy": "2022-08-07T16:43:23.905435Z",
     "iopub.status.idle": "2022-08-07T16:43:25.467514Z",
     "shell.execute_reply": "2022-08-07T16:43:25.466436Z"
    },
    "id": "IgJED3835dfv",
    "outputId": "62f56046-72c3-48ce-ad85-4dcce241a976",
    "papermill": {
     "duration": 1.705182,
     "end_time": "2022-08-07T16:43:25.470202",
     "exception": false,
     "start_time": "2022-08-07T16:43:23.765020",
     "status": "completed"
    },
    "tags": []
   },
   "outputs": [
    {
     "name": "stderr",
     "output_type": "stream",
     "text": [
      "C:\\Users\\Abhi\\AppData\\Local\\Temp/ipykernel_708/4010420734.py:1: UserWarning: `Model.evaluate_generator` is deprecated and will be removed in a future version. Please use `Model.evaluate`, which supports generators.\n",
      "  loss, acc = model.evaluate_generator(test_batches, verbose=1)\n"
     ]
    },
    {
     "name": "stdout",
     "output_type": "stream",
     "text": [
      "18/18 [==============================] - 5s 302ms/step - loss: 1.8431 - acc: 0.8909\n",
      "Accuracy:  0.8909090757369995\n"
     ]
    }
   ],
   "source": [
    "loss, acc = model.evaluate_generator(test_batches, verbose=1)\n",
    "# print(\"Loss: \", loss)\n",
    "print(\"Accuracy: \", acc)\n"
   ]
  },
  {
   "cell_type": "markdown",
   "id": "8198e0a7",
   "metadata": {
    "papermill": {
     "duration": 0.138913,
     "end_time": "2022-08-07T16:43:25.802315",
     "exception": false,
     "start_time": "2022-08-07T16:43:25.663402",
     "status": "completed"
    },
    "tags": []
   },
   "source": [
    "# ****Diabet Retinopathy Detection Section****"
   ]
  },
  {
   "cell_type": "code",
   "execution_count": 17,
   "id": "cd901ca0",
   "metadata": {},
   "outputs": [
    {
     "name": "stdout",
     "output_type": "stream",
     "text": [
      "Requirement already satisfied: opencv-python in c:\\programdata\\anaconda3\\lib\\site-packages (4.7.0.72)\n",
      "Requirement already satisfied: numpy>=1.17.0 in c:\\programdata\\anaconda3\\lib\\site-packages (from opencv-python) (1.20.3)\n",
      "Note: you may need to restart the kernel to use updated packages.\n"
     ]
    },
    {
     "name": "stderr",
     "output_type": "stream",
     "text": [
      "WARNING: Ignoring invalid distribution -ip (c:\\programdata\\anaconda3\\lib\\site-packages)\n",
      "WARNING: Ignoring invalid distribution -ip (c:\\programdata\\anaconda3\\lib\\site-packages)\n",
      "WARNING: Ignoring invalid distribution -ip (c:\\programdata\\anaconda3\\lib\\site-packages)\n",
      "WARNING: Ignoring invalid distribution -ip (c:\\programdata\\anaconda3\\lib\\site-packages)\n",
      "WARNING: Ignoring invalid distribution -ip (c:\\programdata\\anaconda3\\lib\\site-packages)\n",
      "WARNING: Ignoring invalid distribution -ip (c:\\programdata\\anaconda3\\lib\\site-packages)\n"
     ]
    }
   ],
   "source": [
    "pip install opencv-python"
   ]
  },
  {
   "cell_type": "code",
   "execution_count": 18,
   "id": "b4c98a9e",
   "metadata": {
    "execution": {
     "iopub.execute_input": "2022-08-07T16:43:26.083274Z",
     "iopub.status.busy": "2022-08-07T16:43:26.082924Z",
     "iopub.status.idle": "2022-08-07T16:43:26.253449Z",
     "shell.execute_reply": "2022-08-07T16:43:26.252489Z"
    },
    "papermill": {
     "duration": 0.314082,
     "end_time": "2022-08-07T16:43:26.255602",
     "exception": false,
     "start_time": "2022-08-07T16:43:25.941520",
     "status": "completed"
    },
    "tags": []
   },
   "outputs": [],
   "source": [
    "import tensorflow as tf\n",
    "import cv2\n",
    "import numpy as np\n",
    "import matplotlib.pyplot as plt\n",
    "\n",
    "\n",
    "def predict_class(path):\n",
    "    img = cv2.imread(path)\n",
    "\n",
    "    RGBImg = cv2.cvtColor(img,cv2.COLOR_BGR2RGB)\n",
    "    RGBImg= cv2.resize(RGBImg,(224,224))\n",
    "    plt.imshow(RGBImg)\n",
    "    image = np.array(RGBImg) / 255.0\n",
    "    new_model = tf.keras.models.load_model(\"64x3-CNN.model\")\n",
    "    predict=new_model.predict(np.array([image]))\n",
    "    per=np.argmax(predict,axis=1)\n",
    "    if per==1:\n",
    "        print('No DR')\n",
    "    else:\n",
    "        print('DR')\n",
    "    \n",
    "\n",
    "    "
   ]
  },
  {
   "cell_type": "code",
   "execution_count": 19,
   "id": "c1dcd35d",
   "metadata": {
    "execution": {
     "iopub.execute_input": "2022-08-07T16:43:26.539834Z",
     "iopub.status.busy": "2022-08-07T16:43:26.539237Z",
     "iopub.status.idle": "2022-08-07T16:43:27.592276Z",
     "shell.execute_reply": "2022-08-07T16:43:27.591288Z"
    },
    "papermill": {
     "duration": 1.199096,
     "end_time": "2022-08-07T16:43:27.594547",
     "exception": false,
     "start_time": "2022-08-07T16:43:26.395451",
     "status": "completed"
    },
    "tags": []
   },
   "outputs": [
    {
     "name": "stdout",
     "output_type": "stream",
     "text": [
      "1/1 [==============================] - 0s 123ms/step\n",
      "DR\n"
     ]
    },
    {
     "data": {
      "image/png": "[encoded data removed]",
      "text/plain": [
       "<Figure size 432x288 with 1 Axes>"
      ]
     },
     "metadata": {
      "needs_background": "light"
     },
     "output_type": "display_data"
    }
   ],
   "source": [
    "predict_class('C:/dr_final/gaussian_filtered_images/gaussian_filtered_images/Severe/03c85870824c.png')"
   ]
  },
  {
   "cell_type": "markdown",
   "id": "b8bd10dd",
   "metadata": {
    "papermill": {
     "duration": 0.142302,
     "end_time": "2022-08-07T16:43:27.881791",
     "exception": false,
     "start_time": "2022-08-07T16:43:27.739489",
     "status": "completed"
    },
    "tags": []
   },
   "source": [
    "\n"
   ]
  },
  {
   "cell_type": "code",
   "execution_count": null,
   "id": "a3856471",
   "metadata": {
    "papermill": {
     "duration": 0.141831,
     "end_time": "2022-08-07T16:43:28.456828",
     "exception": false,
     "start_time": "2022-08-07T16:43:28.314997",
     "status": "completed"
    },
    "tags": []
   },
   "outputs": [],
   "source": []
  },
  {
   "cell_type": "code",
   "execution_count": null,
   "id": "d6805492",
   "metadata": {},
   "outputs": [],
   "source": []
  }
 ],
 "metadata": {
  "kernelspec": {
   "display_name": "Python 3 (ipykernel)",
   "language": "python",
   "name": "python3"
  },
  "language_info": {
   "codemirror_mode": {
    "name": "ipython",
    "version": 3
   },
   "file_extension": ".py",
   "mimetype": "text/x-python",
   "name": "python",
   "nbconvert_exporter": "python",
   "pygments_lexer": "ipython3",
   "version": "3.9.7"
  },
  "papermill": {
   "default_parameters": {},
   "duration": 310.46044,
   "end_time": "2022-08-07T16:43:31.953020",
   "environment_variables": {},
   "exception": null,
   "input_path": "__notebook__.ipynb",
   "output_path": "__notebook__.ipynb",
   "parameters": {},
   "start_time": "2022-08-07T16:38:21.492580",
   "version": "2.3.4"
  }
 },
 "nbformat": 4,
 "nbformat_minor": 5
}
